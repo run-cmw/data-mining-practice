{
 "cells": [
  {
   "cell_type": "markdown",
   "metadata": {},
   "source": [
    "# Association Rule Mining"
   ]
  },
  {
   "cell_type": "code",
   "execution_count": 6,
   "metadata": {},
   "outputs": [],
   "source": [
    "import pandas as pd\n",
    "pd.set_option(\"max_colwidth\", 150)\n",
    "\n",
    "# Loading online retail dataset\n",
    "f = \"https://github.com/cs6220/cs6220.spring2019/raw/master/data/Online%20Retail.xlsx\"\n",
    "df = pd.read_excel(f)\n",
    "\n",
    "# Transform transactions into baskets of items\n",
    "basket = (df[df[\"Country\"] == \"United Kingdom\"]\n",
    "          .groupby([\"InvoiceNo\", \"Description\"])[\"Quantity\"]\n",
    "          .sum().unstack().reset_index().fillna(0)\n",
    "          .set_index(\"InvoiceNo\"))\n",
    "# Convert counts to booleans\n",
    "basket_sets = basket.applymap(lambda x: 1 if x >= 1 else 0)"
   ]
  },
  {
   "cell_type": "markdown",
   "metadata": {},
   "source": [
    "## 1.1 Frequent Itemset Generation\n",
    "### What are the top 5 1-itemsets with the highest support?"
   ]
  },
  {
   "cell_type": "code",
   "execution_count": 39,
   "metadata": {},
   "outputs": [
    {
     "data": {
      "text/html": [
       "<div>\n",
       "<style scoped>\n",
       "    .dataframe tbody tr th:only-of-type {\n",
       "        vertical-align: middle;\n",
       "    }\n",
       "\n",
       "    .dataframe tbody tr th {\n",
       "        vertical-align: top;\n",
       "    }\n",
       "\n",
       "    .dataframe thead th {\n",
       "        text-align: right;\n",
       "    }\n",
       "</style>\n",
       "<table border=\"1\" class=\"dataframe\">\n",
       "  <thead>\n",
       "    <tr style=\"text-align: right;\">\n",
       "      <th></th>\n",
       "      <th>support</th>\n",
       "      <th>itemsets</th>\n",
       "      <th>length</th>\n",
       "    </tr>\n",
       "  </thead>\n",
       "  <tbody>\n",
       "    <tr>\n",
       "      <td>123</td>\n",
       "      <td>0.098276</td>\n",
       "      <td>(WHITE HANGING HEART T-LIGHT HOLDER)</td>\n",
       "      <td>1</td>\n",
       "    </tr>\n",
       "    <tr>\n",
       "      <td>54</td>\n",
       "      <td>0.087931</td>\n",
       "      <td>(JUMBO BAG RED RETROSPOT)</td>\n",
       "      <td>1</td>\n",
       "    </tr>\n",
       "    <tr>\n",
       "      <td>99</td>\n",
       "      <td>0.076452</td>\n",
       "      <td>(REGENCY CAKESTAND 3 TIER)</td>\n",
       "      <td>1</td>\n",
       "    </tr>\n",
       "    <tr>\n",
       "      <td>87</td>\n",
       "      <td>0.072323</td>\n",
       "      <td>(PARTY BUNTING)</td>\n",
       "      <td>1</td>\n",
       "    </tr>\n",
       "    <tr>\n",
       "      <td>72</td>\n",
       "      <td>0.063158</td>\n",
       "      <td>(LUNCH BAG RED RETROSPOT)</td>\n",
       "      <td>1</td>\n",
       "    </tr>\n",
       "  </tbody>\n",
       "</table>\n",
       "</div>"
      ],
      "text/plain": [
       "      support                              itemsets  length\n",
       "123  0.098276  (WHITE HANGING HEART T-LIGHT HOLDER)       1\n",
       "54   0.087931             (JUMBO BAG RED RETROSPOT)       1\n",
       "99   0.076452            (REGENCY CAKESTAND 3 TIER)       1\n",
       "87   0.072323                       (PARTY BUNTING)       1\n",
       "72   0.063158             (LUNCH BAG RED RETROSPOT)       1"
      ]
     },
     "execution_count": 39,
     "metadata": {},
     "output_type": "execute_result"
    }
   ],
   "source": [
    "from mlxtend.frequent_patterns import apriori\n",
    "\n",
    "frequent_itemsets = apriori(basket_sets, min_support=0.025, use_colnames=True)\n",
    "frequent_itemsets\n",
    "frequent_itemsets['length'] = frequent_itemsets['itemsets'].apply(lambda x: len(x))\n",
    "frequent_itemsets\n",
    "frequent_one_itemsets = frequent_itemsets[(frequent_itemsets['length'] == 1)]\n",
    "frequent_one_itemsets\n",
    "top_5_one_itemsets = frequent_one_itemsets.sort_values(by='support', ascending=False)\n",
    "top_5_one_itemsets\n",
    "top_5_one_itemsets = top_5_one_itemsets.head()\n",
    "top_5_one_itemsets"
   ]
  },
  {
   "cell_type": "markdown",
   "metadata": {},
   "source": [
    "### What are the top 5 2-itemsets with the highest support?"
   ]
  },
  {
   "cell_type": "code",
   "execution_count": 40,
   "metadata": {},
   "outputs": [
    {
     "data": {
      "text/html": [
       "<div>\n",
       "<style scoped>\n",
       "    .dataframe tbody tr th:only-of-type {\n",
       "        vertical-align: middle;\n",
       "    }\n",
       "\n",
       "    .dataframe tbody tr th {\n",
       "        vertical-align: top;\n",
       "    }\n",
       "\n",
       "    .dataframe thead th {\n",
       "        text-align: right;\n",
       "    }\n",
       "</style>\n",
       "<table border=\"1\" class=\"dataframe\">\n",
       "  <thead>\n",
       "    <tr style=\"text-align: right;\">\n",
       "      <th></th>\n",
       "      <th>support</th>\n",
       "      <th>itemsets</th>\n",
       "      <th>length</th>\n",
       "    </tr>\n",
       "  </thead>\n",
       "  <tbody>\n",
       "    <tr>\n",
       "      <td>132</td>\n",
       "      <td>0.035617</td>\n",
       "      <td>(JUMBO BAG RED RETROSPOT, JUMBO BAG PINK POLKADOT)</td>\n",
       "      <td>2</td>\n",
       "    </tr>\n",
       "    <tr>\n",
       "      <td>130</td>\n",
       "      <td>0.031806</td>\n",
       "      <td>(ROSES REGENCY TEACUP AND SAUCER , GREEN REGENCY TEACUP AND SAUCER)</td>\n",
       "      <td>2</td>\n",
       "    </tr>\n",
       "    <tr>\n",
       "      <td>134</td>\n",
       "      <td>0.031670</td>\n",
       "      <td>(JUMBO BAG RED RETROSPOT, JUMBO STORAGE BAG SUKI)</td>\n",
       "      <td>2</td>\n",
       "    </tr>\n",
       "    <tr>\n",
       "      <td>133</td>\n",
       "      <td>0.029809</td>\n",
       "      <td>(JUMBO SHOPPER VINTAGE RED PAISLEY, JUMBO BAG RED RETROSPOT)</td>\n",
       "      <td>2</td>\n",
       "    </tr>\n",
       "    <tr>\n",
       "      <td>135</td>\n",
       "      <td>0.027541</td>\n",
       "      <td>(LUNCH BAG  BLACK SKULL., LUNCH BAG RED RETROSPOT)</td>\n",
       "      <td>2</td>\n",
       "    </tr>\n",
       "  </tbody>\n",
       "</table>\n",
       "</div>"
      ],
      "text/plain": [
       "      support  \\\n",
       "132  0.035617   \n",
       "130  0.031806   \n",
       "134  0.031670   \n",
       "133  0.029809   \n",
       "135  0.027541   \n",
       "\n",
       "                                                                itemsets  \\\n",
       "132                   (JUMBO BAG RED RETROSPOT, JUMBO BAG PINK POLKADOT)   \n",
       "130  (ROSES REGENCY TEACUP AND SAUCER , GREEN REGENCY TEACUP AND SAUCER)   \n",
       "134                    (JUMBO BAG RED RETROSPOT, JUMBO STORAGE BAG SUKI)   \n",
       "133         (JUMBO SHOPPER VINTAGE RED PAISLEY, JUMBO BAG RED RETROSPOT)   \n",
       "135                   (LUNCH BAG  BLACK SKULL., LUNCH BAG RED RETROSPOT)   \n",
       "\n",
       "     length  \n",
       "132       2  \n",
       "130       2  \n",
       "134       2  \n",
       "133       2  \n",
       "135       2  "
      ]
     },
     "execution_count": 40,
     "metadata": {},
     "output_type": "execute_result"
    }
   ],
   "source": [
    "frequent_two_itemsets = frequent_itemsets[(frequent_itemsets['length'] == 2)]\n",
    "frequent_two_itemsets\n",
    "top_5_two_itemsets = frequent_two_itemsets.sort_values(by='support', ascending=False).head()\n",
    "top_5_two_itemsets"
   ]
  },
  {
   "cell_type": "markdown",
   "metadata": {},
   "source": [
    "### What is the highest support value for the 1-itemsets?"
   ]
  },
  {
   "cell_type": "code",
   "execution_count": 41,
   "metadata": {},
   "outputs": [
    {
     "data": {
      "text/html": [
       "<div>\n",
       "<style scoped>\n",
       "    .dataframe tbody tr th:only-of-type {\n",
       "        vertical-align: middle;\n",
       "    }\n",
       "\n",
       "    .dataframe tbody tr th {\n",
       "        vertical-align: top;\n",
       "    }\n",
       "\n",
       "    .dataframe thead th {\n",
       "        text-align: right;\n",
       "    }\n",
       "</style>\n",
       "<table border=\"1\" class=\"dataframe\">\n",
       "  <thead>\n",
       "    <tr style=\"text-align: right;\">\n",
       "      <th></th>\n",
       "      <th>support</th>\n",
       "      <th>itemsets</th>\n",
       "      <th>length</th>\n",
       "    </tr>\n",
       "  </thead>\n",
       "  <tbody>\n",
       "    <tr>\n",
       "      <td>123</td>\n",
       "      <td>0.098276</td>\n",
       "      <td>(WHITE HANGING HEART T-LIGHT HOLDER)</td>\n",
       "      <td>1</td>\n",
       "    </tr>\n",
       "  </tbody>\n",
       "</table>\n",
       "</div>"
      ],
      "text/plain": [
       "      support                              itemsets  length\n",
       "123  0.098276  (WHITE HANGING HEART T-LIGHT HOLDER)       1"
      ]
     },
     "execution_count": 41,
     "metadata": {},
     "output_type": "execute_result"
    }
   ],
   "source": [
    "top_5_one_itemsets[:1]"
   ]
  },
  {
   "cell_type": "markdown",
   "metadata": {},
   "source": [
    "\n",
    "### What is the highest support value for the 2-itemsets?\n"
   ]
  },
  {
   "cell_type": "code",
   "execution_count": 42,
   "metadata": {},
   "outputs": [
    {
     "data": {
      "text/html": [
       "<div>\n",
       "<style scoped>\n",
       "    .dataframe tbody tr th:only-of-type {\n",
       "        vertical-align: middle;\n",
       "    }\n",
       "\n",
       "    .dataframe tbody tr th {\n",
       "        vertical-align: top;\n",
       "    }\n",
       "\n",
       "    .dataframe thead th {\n",
       "        text-align: right;\n",
       "    }\n",
       "</style>\n",
       "<table border=\"1\" class=\"dataframe\">\n",
       "  <thead>\n",
       "    <tr style=\"text-align: right;\">\n",
       "      <th></th>\n",
       "      <th>support</th>\n",
       "      <th>itemsets</th>\n",
       "      <th>length</th>\n",
       "    </tr>\n",
       "  </thead>\n",
       "  <tbody>\n",
       "    <tr>\n",
       "      <td>132</td>\n",
       "      <td>0.035617</td>\n",
       "      <td>(JUMBO BAG RED RETROSPOT, JUMBO BAG PINK POLKADOT)</td>\n",
       "      <td>2</td>\n",
       "    </tr>\n",
       "  </tbody>\n",
       "</table>\n",
       "</div>"
      ],
      "text/plain": [
       "      support                                            itemsets  length\n",
       "132  0.035617  (JUMBO BAG RED RETROSPOT, JUMBO BAG PINK POLKADOT)       2"
      ]
     },
     "execution_count": 42,
     "metadata": {},
     "output_type": "execute_result"
    }
   ],
   "source": [
    "top_5_two_itemsets[:1]"
   ]
  },
  {
   "cell_type": "markdown",
   "metadata": {},
   "source": [
    "## 1.2 Association Rule Generation\n",
    "### What are the top 5 association rules?"
   ]
  },
  {
   "cell_type": "code",
   "execution_count": 50,
   "metadata": {},
   "outputs": [
    {
     "data": {
      "text/html": [
       "<div>\n",
       "<style scoped>\n",
       "    .dataframe tbody tr th:only-of-type {\n",
       "        vertical-align: middle;\n",
       "    }\n",
       "\n",
       "    .dataframe tbody tr th {\n",
       "        vertical-align: top;\n",
       "    }\n",
       "\n",
       "    .dataframe thead th {\n",
       "        text-align: right;\n",
       "    }\n",
       "</style>\n",
       "<table border=\"1\" class=\"dataframe\">\n",
       "  <thead>\n",
       "    <tr style=\"text-align: right;\">\n",
       "      <th></th>\n",
       "      <th>antecedents</th>\n",
       "      <th>consequents</th>\n",
       "      <th>antecedent support</th>\n",
       "      <th>consequent support</th>\n",
       "      <th>support</th>\n",
       "      <th>confidence</th>\n",
       "      <th>lift</th>\n",
       "      <th>leverage</th>\n",
       "      <th>conviction</th>\n",
       "    </tr>\n",
       "  </thead>\n",
       "  <tbody>\n",
       "    <tr>\n",
       "      <td>2</td>\n",
       "      <td>(PINK REGENCY TEACUP AND SAUCER)</td>\n",
       "      <td>(GREEN REGENCY TEACUP AND SAUCER)</td>\n",
       "      <td>0.031897</td>\n",
       "      <td>0.042377</td>\n",
       "      <td>0.026180</td>\n",
       "      <td>0.820768</td>\n",
       "      <td>19.368019</td>\n",
       "      <td>0.024828</td>\n",
       "      <td>5.342926</td>\n",
       "    </tr>\n",
       "    <tr>\n",
       "      <td>5</td>\n",
       "      <td>(GREEN REGENCY TEACUP AND SAUCER)</td>\n",
       "      <td>(ROSES REGENCY TEACUP AND SAUCER )</td>\n",
       "      <td>0.042377</td>\n",
       "      <td>0.043421</td>\n",
       "      <td>0.031806</td>\n",
       "      <td>0.750535</td>\n",
       "      <td>17.285056</td>\n",
       "      <td>0.029966</td>\n",
       "      <td>3.834527</td>\n",
       "    </tr>\n",
       "    <tr>\n",
       "      <td>4</td>\n",
       "      <td>(ROSES REGENCY TEACUP AND SAUCER )</td>\n",
       "      <td>(GREEN REGENCY TEACUP AND SAUCER)</td>\n",
       "      <td>0.043421</td>\n",
       "      <td>0.042377</td>\n",
       "      <td>0.031806</td>\n",
       "      <td>0.732497</td>\n",
       "      <td>17.285056</td>\n",
       "      <td>0.029966</td>\n",
       "      <td>3.579862</td>\n",
       "    </tr>\n",
       "    <tr>\n",
       "      <td>7</td>\n",
       "      <td>(JUMBO BAG PINK POLKADOT)</td>\n",
       "      <td>(JUMBO BAG RED RETROSPOT)</td>\n",
       "      <td>0.052586</td>\n",
       "      <td>0.087931</td>\n",
       "      <td>0.035617</td>\n",
       "      <td>0.677308</td>\n",
       "      <td>7.702719</td>\n",
       "      <td>0.030993</td>\n",
       "      <td>2.826438</td>\n",
       "    </tr>\n",
       "    <tr>\n",
       "      <td>0</td>\n",
       "      <td>(ALARM CLOCK BAKELIKE GREEN)</td>\n",
       "      <td>(ALARM CLOCK BAKELIKE RED )</td>\n",
       "      <td>0.039746</td>\n",
       "      <td>0.042196</td>\n",
       "      <td>0.025544</td>\n",
       "      <td>0.642694</td>\n",
       "      <td>15.231158</td>\n",
       "      <td>0.023867</td>\n",
       "      <td>2.680627</td>\n",
       "    </tr>\n",
       "  </tbody>\n",
       "</table>\n",
       "</div>"
      ],
      "text/plain": [
       "                          antecedents                         consequents  \\\n",
       "2    (PINK REGENCY TEACUP AND SAUCER)   (GREEN REGENCY TEACUP AND SAUCER)   \n",
       "5   (GREEN REGENCY TEACUP AND SAUCER)  (ROSES REGENCY TEACUP AND SAUCER )   \n",
       "4  (ROSES REGENCY TEACUP AND SAUCER )   (GREEN REGENCY TEACUP AND SAUCER)   \n",
       "7           (JUMBO BAG PINK POLKADOT)           (JUMBO BAG RED RETROSPOT)   \n",
       "0        (ALARM CLOCK BAKELIKE GREEN)         (ALARM CLOCK BAKELIKE RED )   \n",
       "\n",
       "   antecedent support  consequent support   support  confidence       lift  \\\n",
       "2            0.031897            0.042377  0.026180    0.820768  19.368019   \n",
       "5            0.042377            0.043421  0.031806    0.750535  17.285056   \n",
       "4            0.043421            0.042377  0.031806    0.732497  17.285056   \n",
       "7            0.052586            0.087931  0.035617    0.677308   7.702719   \n",
       "0            0.039746            0.042196  0.025544    0.642694  15.231158   \n",
       "\n",
       "   leverage  conviction  \n",
       "2  0.024828    5.342926  \n",
       "5  0.029966    3.834527  \n",
       "4  0.029966    3.579862  \n",
       "7  0.030993    2.826438  \n",
       "0  0.023867    2.680627  "
      ]
     },
     "execution_count": 50,
     "metadata": {},
     "output_type": "execute_result"
    }
   ],
   "source": [
    "from mlxtend.frequent_patterns import association_rules\n",
    "\n",
    "rules = association_rules(frequent_itemsets, metric=\"confidence\", min_threshold=0.5)\n",
    "rules = rules.sort_values(by='confidence', ascending=False)\n",
    "rules.head()"
   ]
  },
  {
   "cell_type": "markdown",
   "metadata": {},
   "source": [
    "### What items make up one of the top association rules? Search online for the items (or at least items with the same name). Do you think they are likely to be bought together?"
   ]
  },
  {
   "cell_type": "markdown",
   "metadata": {},
   "source": [
    "- Green regency teacup and saucer -> roses regency teacup and saucer are items that make up one of the top association rules\n",
    "- I found the items online here: [green](https://www.rexlondon.com/green-regency-teacup-and-saucer) and [roses](https://www.rexlondon.com/roses-regency-teacup-and-saucer)\n",
    "- I think these items are likely to be purchased together because those who enjoy tea enough to buy teacups and saucers are likely to purchase multiple sets for a collection. In addition, the earthy green set may be thought to compliment the roses set.\n"
   ]
  }
 ],
 "metadata": {
  "kernelspec": {
   "display_name": "Python 3",
   "language": "python",
   "name": "python3"
  },
  "language_info": {
   "codemirror_mode": {
    "name": "ipython",
    "version": 3
   },
   "file_extension": ".py",
   "mimetype": "text/x-python",
   "name": "python",
   "nbconvert_exporter": "python",
   "pygments_lexer": "ipython3",
   "version": "3.7.4"
  }
 },
 "nbformat": 4,
 "nbformat_minor": 2
}
